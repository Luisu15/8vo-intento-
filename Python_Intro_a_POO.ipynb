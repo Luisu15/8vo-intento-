{
  "nbformat": 4,
  "nbformat_minor": 0,
  "metadata": {
    "colab": {
      "name": "Python Intro a POO.ipynb",
      "provenance": [],
      "include_colab_link": true
    },
    "kernelspec": {
      "name": "python3",
      "display_name": "Python 3"
    },
    "language_info": {
      "name": "python"
    }
  },
  "cells": [
    {
      "cell_type": "markdown",
      "metadata": {
        "id": "view-in-github",
        "colab_type": "text"
      },
      "source": [
        "<a href=\"https://colab.research.google.com/github/Luisu15/8vo-intento-/blob/main/Python_Intro_a_POO.ipynb\" target=\"_parent\"><img src=\"https://colab.research.google.com/assets/colab-badge.svg\" alt=\"Open In Colab\"/></a>"
      ]
    },
    {
      "cell_type": "markdown",
      "metadata": {
        "id": "KdN3ueEoFZ4w"
      },
      "source": [
        "##PROGRAMACIÓN ORIENTADA A OBJETOS##\n",
        "###POO###\n",
        "- Consiste en trasladar objetos de la vida real al código de programación.\n",
        "- Los objetos tienen propiedades, estados, y comportamientos (qué pueden hacer?)\n",
        "\n",
        "Ejemplo 'auto':\n",
        "\n",
        "Propiedades (atributos)\n",
        "- marca\n",
        "- modelo\n",
        "- color\n",
        "- peso\n",
        "- patente\n",
        "- medidas\n",
        "\n",
        "Comportamientos (métodos)\n",
        "- arrancar\n",
        "- acelerar\n",
        "- frenar\n",
        "- girar\n",
        "\n",
        "\n",
        "---\n",
        "\n",
        "\n",
        "###Lenguajes POO###\n",
        "C++, Java, Python, PHP, etc\n",
        "\n",
        "###Ventajas###\n",
        "- el programa se divide en módulos, cada uno con su propio código -> modularización\n",
        "- herencia -> reutilización\n",
        "- Si existe alguna falla, el programa puede continuar -> tiene tratamiento de excepciones\n",
        "- Código encapsulado en objetos (encapsulamiento) -> proteger los datos\n",
        "\n",
        "###Vocabulario###\n",
        "- Clase: modelo donde se definen las características comunes a un grupo de objetos\n",
        "- Objeto / instancia: es un ejemplar perteneciente a una clase. Cada instancia de una clase tiene su propio nombre\n",
        "- Modularización: un programa complejo normalmente está formado de varias clases\n",
        "\n",
        "  -- Ventajas:   \n",
        "      - Cada elemento o módulo funciona de forma independiente. Se puede reutilizar en otro programa\n",
        "      - Si no funciona un componente, el resto continúa funcionando\n",
        "\n",
        "- Encapsulamiento: se utiliza para ocultar detalles de implementación de una clase. El funcionamiento interno de una clase es independiente de la implementación. Está protegido y aislado del exterior- Todas las clases están conectadas para formar un programa, pero cada clase no es accesible desde afuera. Se conectan por métodos de acceso (sólo tienen acceso a ciertas características de la clase)\n",
        "- Herencia: las clases pueden heredar atributos y métodos comunes de otra clase padre\n",
        "- Polimorfismo: objetos de diferentes clases puden ser accedidos utilizando el mismo interfaz, mostrando un comportamiento distinto(tomando diferentes formas) según cómo se accedan\n"
      ]
    },
    {
      "cell_type": "markdown",
      "metadata": {
        "id": "8uQP9iRS4IHP"
      },
      "source": [
        "##f-strings, literal strings, cadenas literales##\n",
        "\n"
      ]
    },
    {
      "cell_type": "code",
      "metadata": {
        "colab": {
          "base_uri": "https://localhost:8080/"
        },
        "id": "JQLzvKas4RAY",
        "outputId": "3e8a84e4-e072-4a33-9d00-272237bdc9d0"
      },
      "source": [
        "nombre=\"Filomena\"\n",
        "apellido=\"Cardozo\"\n",
        "print(f\"La nueva alumna se llama {nombre}\") \n",
        "print(\"La nueva alumna se llama {nombre}\") # f indicaba que es cadena literal\n",
        "print(f\"La nueva alumna se llama nombre\") # las llaves me indicaban que nombre era una variable\n",
        "print(f\"La nueva alumna se llama {nombre} {apellido}\")\n",
        "print(f\"La nueva alumna se llama {nombre} {apellido.upper()}\")"
      ],
      "execution_count": null,
      "outputs": [
        {
          "output_type": "stream",
          "name": "stdout",
          "text": [
            "La nueva alumna se llama Filomena\n",
            "La nueva alumna se llama {nombre}\n",
            "La nueva alumna se llama nombre\n",
            "La nueva alumna se llama Filomena Cardozo\n",
            "La nueva alumna se llama Filomena CARDOZO\n"
          ]
        }
      ]
    },
    {
      "cell_type": "code",
      "metadata": {
        "colab": {
          "base_uri": "https://localhost:8080/"
        },
        "id": "-sxmqmgq5tIV",
        "outputId": "2b7a425d-ed54-4f9b-befe-684a2735f713"
      },
      "source": [
        "nombre=\"Filomena\"\n",
        "apellido=\"Cardozo\"\n",
        "# Si necesito múltiples líneas de código, debo ponerle f al inicio de c/u\n",
        "print(\n",
        "    f\"Nombre: {nombre} - \"\n",
        "    f\"Apellido: {apellido}\"\n",
        ")"
      ],
      "execution_count": null,
      "outputs": [
        {
          "output_type": "stream",
          "name": "stdout",
          "text": [
            "Nombre: Filomena - Apellido: Cardozo\n"
          ]
        }
      ]
    }
  ]
}