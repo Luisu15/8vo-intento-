{
  "nbformat": 4,
  "nbformat_minor": 0,
  "metadata": {
    "colab": {
      "name": "Python 3_com 1119.ipynb",
      "provenance": [],
      "include_colab_link": true
    },
    "kernelspec": {
      "name": "python3",
      "display_name": "Python 3"
    },
    "language_info": {
      "name": "python"
    }
  },
  "cells": [
    {
      "cell_type": "markdown",
      "metadata": {
        "id": "view-in-github",
        "colab_type": "text"
      },
      "source": [
        "<a href=\"https://colab.research.google.com/github/Luisu15/8vo-intento-/blob/main/Python_3_com_1119.ipynb\" target=\"_parent\"><img src=\"https://colab.research.google.com/assets/colab-badge.svg\" alt=\"Open In Colab\"/></a>"
      ]
    },
    {
      "cell_type": "markdown",
      "metadata": {
        "id": "lAMkjdRwsTRl"
      },
      "source": [
        "#OPERADORES#\n",
        "Son símbolos que se aplican a uno o varios operandos en una expresión o instrucción para obtener un resultado\n",
        "##Aritméticos##\n",
        "\n",
        "+  (suma)\n",
        "\n",
        "- (resta)\n",
        "\n",
        "* (multiplicación)\n",
        "\n",
        "/ (división)\n",
        "\n",
        "** (potencia)\n",
        "\n",
        "// (división entera)\n",
        "\n",
        "% (módulo)"
      ]
    },
    {
      "cell_type": "code",
      "metadata": {
        "colab": {
          "base_uri": "https://localhost:8080/"
        },
        "id": "k1wYEQplrwed",
        "outputId": "27e0c5d1-c150-4e15-9958-021b9991cfb6"
      },
      "source": [
        "nro = 5\n",
        "print(nro + 5)\n",
        "print(nro - 5)\n",
        "print(-nro)\n",
        "print(nro * 2)\n",
        "print(nro ** 2)\n",
        "print(nro / 3)\n",
        "print(nro // 3)\n",
        "print(nro % 3)\n",
        "\n",
        "# también se usa en strings\n",
        "nombre = \"Ana\"\n",
        "apellido = \"5\"\n",
        "print(nombre + apellido)\n",
        "print(nombre * 5)"
      ],
      "execution_count": null,
      "outputs": [
        {
          "output_type": "stream",
          "name": "stdout",
          "text": [
            "10\n",
            "0\n",
            "-5\n",
            "10\n",
            "25\n",
            "1.6666666666666667\n",
            "1\n",
            "2\n",
            "35\n",
            "33333\n"
          ]
        }
      ]
    },
    {
      "cell_type": "markdown",
      "metadata": {
        "id": "-YyB0pUZscNr"
      },
      "source": [
        "##De Asignación##\n",
        "\n",
        "=\n",
        "\n",
        "+= \n",
        "\n",
        "-=\n",
        "\n",
        "*=\n",
        "\n",
        "/=\n",
        "\n",
        "**=\n",
        "\n",
        "//=\n",
        "\n",
        "%="
      ]
    },
    {
      "cell_type": "code",
      "metadata": {
        "colab": {
          "base_uri": "https://localhost:8080/"
        },
        "id": "QuZAydf0se69",
        "outputId": "945ab89b-4fac-4c53-d919-ed53d6fdd350"
      },
      "source": [
        "nro = 10\n",
        "nro += 22\n",
        "print(nro)\n",
        "nro -= 5\n",
        "print(nro)\n",
        "nro *= 2\n",
        "print(nro)\n",
        "nro **= 2\n",
        "print(nro)\n",
        "nro /=3\n",
        "print(nro)\n",
        "nro //= 3\n",
        "print(nro)\n",
        "nro %= 2\n",
        "print(nro)"
      ],
      "execution_count": null,
      "outputs": [
        {
          "output_type": "stream",
          "name": "stdout",
          "text": [
            "32\n",
            "27\n",
            "54\n",
            "2916\n",
            "972.0\n",
            "324.0\n",
            "0.0\n"
          ]
        }
      ]
    },
    {
      "cell_type": "markdown",
      "metadata": {
        "id": "sx0Lep0osfKx"
      },
      "source": [
        "##Relacionales##\n",
        "Devuelven  un valor booleano\n",
        "\n",
        "==\n",
        "\n",
        "!=\n",
        "\n",
        ">\n",
        "\n",
        "<\n",
        "\n",
        ">=\n",
        "\n",
        "<="
      ]
    },
    {
      "cell_type": "code",
      "metadata": {
        "colab": {
          "base_uri": "https://localhost:8080/"
        },
        "id": "ulmxDvTnsij6",
        "outputId": "82da15d4-3f79-4daf-8d78-14f8a16f463b"
      },
      "source": [
        "nro = 10\n",
        "print(nro == 15)\n",
        "print(nro == 10)\n",
        "print(nro != 15)\n",
        "print(nro != 10)\n",
        "print(nro < 15)\n",
        "print(nro > 15)\n",
        "print(nro >= 15)\n",
        "print(nro <= 15)"
      ],
      "execution_count": null,
      "outputs": [
        {
          "output_type": "stream",
          "name": "stdout",
          "text": [
            "False\n",
            "True\n",
            "True\n",
            "False\n",
            "True\n",
            "False\n",
            "False\n",
            "True\n"
          ]
        }
      ]
    },
    {
      "cell_type": "markdown",
      "metadata": {
        "id": "gUbqQuTysitq"
      },
      "source": [
        "##Lógicos##\n",
        "Devuelven un booleano\n",
        "\n",
        "and \n",
        "\n",
        "or \n",
        "\n",
        "not\n"
      ]
    },
    {
      "cell_type": "code",
      "metadata": {
        "colab": {
          "base_uri": "https://localhost:8080/"
        },
        "id": "2xxLZ759smiJ",
        "outputId": "dc58abc2-59f1-465d-e6fe-37308b5a53c2"
      },
      "source": [
        "n1=10\n",
        "n2=29\n",
        "exp_logica_1 = n1 == n2\n",
        "exp_logica_2 = n1 != n2\n",
        "print(exp_logica_1 or exp_logica_2) # con 1 solo True -> toda la expresión es True\n",
        "print(exp_logica_1)\n",
        "print(exp_logica_1 and exp_logica_2) # con 1 sólo False -> toda la expresión es False\n",
        "print(not exp_logica_1)\n"
      ],
      "execution_count": null,
      "outputs": [
        {
          "output_type": "stream",
          "name": "stdout",
          "text": [
            "True\n",
            "False\n",
            "False\n",
            "True\n"
          ]
        }
      ]
    },
    {
      "cell_type": "markdown",
      "metadata": {
        "id": "lpPGHwQ1smsC"
      },
      "source": [
        "##De pertenencia##\n",
        "Permiten comprobar si un valor se encuentra en una secuencia (lista, tupla, diccionario, set, cadena de texto...)\n",
        "\n",
        "in: True si el valor se encuentra en la secuencia\n",
        "\n",
        "not in: True si el valor NO se encuentra en la secuencia"
      ]
    },
    {
      "cell_type": "code",
      "metadata": {
        "colab": {
          "base_uri": "https://localhost:8080/"
        },
        "id": "GgPRvOu4so07",
        "outputId": "fe7d4cd6-95bb-4b95-8ea5-bc35ff208035"
      },
      "source": [
        "lista = [2,4,5,6,4,3,3,45,6,775,100]\n",
        "4 in lista\n",
        "99 in lista\n",
        "99 not in lista\n",
        "4 not in lista\n"
      ],
      "execution_count": null,
      "outputs": [
        {
          "output_type": "execute_result",
          "data": {
            "text/plain": [
              "False"
            ]
          },
          "metadata": {},
          "execution_count": 11
        }
      ]
    },
    {
      "cell_type": "markdown",
      "metadata": {
        "id": "rirjedKosti8"
      },
      "source": [
        "#SALIDA y ENTRADA de datos#\n",
        "##Salida: print()##\n",
        "Imprime en pantalla lo que le pasamos como parámetro (dato, variable, expresión, función)"
      ]
    },
    {
      "cell_type": "code",
      "metadata": {
        "colab": {
          "base_uri": "https://localhost:8080/"
        },
        "id": "L334vcals1Vm",
        "outputId": "1e2be87f-7902-47cb-a3bf-8972c95f487f"
      },
      "source": [
        "print(\"Hola\")\n",
        "print(45)\n",
        "nombre = \"Ana\"\n",
        "print(nombre)\n",
        "print(5+3)\n",
        "print(True == False)\n",
        "print(type(nombre))\n",
        "print(type(nombre), 5)\n"
      ],
      "execution_count": null,
      "outputs": [
        {
          "output_type": "stream",
          "name": "stdout",
          "text": [
            "Hola\n",
            "45\n",
            "Ana\n",
            "8\n",
            "False\n",
            "<class 'str'>\n",
            "<class 'str'> 5\n"
          ]
        }
      ]
    },
    {
      "cell_type": "markdown",
      "metadata": {
        "id": "8GNDGNGTs3UL"
      },
      "source": [
        "##Entrada input()##\n",
        "Pide un dato al usuario.\n",
        "Parámetro: mensaje al usuario para indicar el tipo de dato que debe ingresar\n",
        "\n",
        "**IMPORTANTE**: Los datos ingresados por input() son del tipo str"
      ]
    },
    {
      "cell_type": "code",
      "metadata": {
        "colab": {
          "base_uri": "https://localhost:8080/"
        },
        "id": "Bocy4ZBt6i0Z",
        "outputId": "89433d50-e782-45a9-a3e8-96dbaf28019d"
      },
      "source": [
        "#nombre = input(\"Ingrese su nombre: \")\n",
        "#print(nombre)\n",
        "'''\n",
        "n1=input(\"Ingrese un nro: \")\n",
        "n2=input(\"Ingrese otro nro: \")\n",
        "print(n1+n2)\n",
        "n3=int(input(\"Ingrese un nro: \"))\n",
        "n4=int(input(\"Ingrese otro nro: \"))\n",
        "print(n3+n4)\n",
        "'''\n",
        "n5=float(input(\"Ingrese OOOOOTRO número: \"))\n",
        "print(n5)\n",
        "\n",
        "# Si yo no estoy segur@ de qué tipo de nro me va a ingresar el usuario, me conviene hacer conversión a float\n",
        "# - si ingresa un int cuando espero un float -> no pasa nada\n",
        "# - si ingresa un float cuando espero un int -> se rompe  "
      ],
      "execution_count": null,
      "outputs": [
        {
          "output_type": "stream",
          "name": "stdout",
          "text": [
            "Ingrese OOOOOTRO número: 6\n",
            "6.0\n"
          ]
        }
      ]
    }
  ]
}