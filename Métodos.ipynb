{
  "nbformat": 4,
  "nbformat_minor": 0,
  "metadata": {
    "colab": {
      "name": "Métodos.ipynb",
      "provenance": [],
      "include_colab_link": true
    },
    "kernelspec": {
      "name": "python3",
      "display_name": "Python 3"
    },
    "language_info": {
      "name": "python"
    }
  },
  "cells": [
    {
      "cell_type": "markdown",
      "metadata": {
        "id": "view-in-github",
        "colab_type": "text"
      },
      "source": [
        "<a href=\"https://colab.research.google.com/github/Luisu15/8vo-intento-/blob/main/M%C3%A9todos.ipynb\" target=\"_parent\"><img src=\"https://colab.research.google.com/assets/colab-badge.svg\" alt=\"Open In Colab\"/></a>"
      ]
    },
    {
      "cell_type": "markdown",
      "metadata": {
        "id": "vwvlmGcK8stE"
      },
      "source": [
        "##Métodos\n",
        "Un método es una función que está definida dentro de una clase.\n",
        "\n"
      ]
    },
    {
      "cell_type": "code",
      "metadata": {
        "id": "5gnOU_LO9SsB"
      },
      "source": [
        "#ejemplo del método len de str\n",
        "mensaje = \"mensaje de bienvenida\"\n",
        "print(len(mensaje))"
      ],
      "execution_count": null,
      "outputs": []
    },
    {
      "cell_type": "code",
      "metadata": {
        "id": "I0zINJsn9Zs5"
      },
      "source": [
        "#AVERIGUAR LOS MÉTODOS DE STR\n",
        "#help(tipo_de_dato)\n",
        "#help(str)\n",
        "nombre=\"rEGINA\"\n",
        "nombre.swapcase()\n",
        "#help(int)"
      ],
      "execution_count": null,
      "outputs": []
    },
    {
      "cell_type": "code",
      "metadata": {
        "id": "_2mkHV34-HN6"
      },
      "source": [
        "# MÉTODOS DE int\n",
        "'''\n",
        "abs() -> convierte a valor absoluto\n",
        "divmod(a,b) -> a es el dividendo, b es el divisor - devuelve una tupla (cociente,resto)\n",
        "sum() -> suma\n",
        "float() -> convierte a número coma flotante (con decimal)\n",
        "__neg__() -> me cambia de signo el nro\n",
        "round() -> redondea\n",
        "str() -> convierte el nro a cadena de texto\n",
        "__add__() -> suma\n",
        "bool() -> convierte a booleano\n",
        "pow(a,b) -> potencia(base, exponente)\n",
        "'''\n",
        "\n",
        "nro=0\n",
        "nro2= 25\n",
        "nro.__neg__()\n",
        "nro.__add__(nro2)\n",
        "bool(nro)\n",
        "pow(2,3)"
      ],
      "execution_count": null,
      "outputs": []
    },
    {
      "cell_type": "code",
      "metadata": {
        "id": "U_tlUZPhABIN"
      },
      "source": [
        "# MÉTODOS DE str\n",
        "'''\n",
        "int()/float() -> convierte una cadena de texto a nro entero o de coma flotante\n",
        "isalpha() -> True si todos los caracteres son letras\n",
        "__getitem__(i) -> devuelve el valor de la posición i de la cadena de texto\n",
        "lower() -> convierte todo el string a minúsculas\n",
        "len() -> longitud de la cadena\n",
        "upper() -> convierte toda al cadena a mayúsculas\n",
        "capitalize() -> convierte toda la cadena en minúsculas pero la primera letra en mayúscula\n",
        "title() -> convierte la primera letra de cada palabra a mayúscula\n",
        "__contains__('a') -> True si la cadena contiene el texto entre comillas\n",
        "strip() -> elimina espacios al principio y al final de una cadena\n",
        "isalnum() -> Me devuelve un True, si la cadena está compuesta por sólo números\n",
        "split() -> convierte el string en una lista\n",
        "'''\n",
        "\n",
        "cadena1 = \"abcdrefgr\"\n",
        "cadena2 = \"jhsdkjfhs6skdjh\"\n",
        "cadena3 = \"palabra1 palabra2 palabra3 palabra4\"\n",
        "print(cadena1.isalpha())\n",
        "print(cadena2.isalpha())\n",
        "print(cadena1.__getitem__(5))\n",
        "print(cadena1.__contains__('gre'))\n",
        "print(cadena3.split())"
      ],
      "execution_count": null,
      "outputs": []
    },
    {
      "cell_type": "code",
      "metadata": {
        "id": "hsmIGYMJ-hek"
      },
      "source": [
        "# MÉTODOS DE list\n",
        "'''\n",
        "list() -> convierte a lista\n",
        "copy() -> copia una lista\n",
        "append() -> agrega un elemento a la lista\n",
        "extend() -> concatena listas\n",
        "clear() -> limpia la lista\n",
        "pop() -> elimina un elemento de la lista\n",
        "__delitem__(i) -> elimina el elemento de la posición i\n",
        "sort() -> ordena de menor a mayor\n",
        "__getitem__(i) -> me  devuelve el elemento de la posición i\n",
        "count(\"s\") -> cuanta la cantidad de veces que aparece un elemento en la lista\n",
        "__setitem__(i, elemento) -> agrega un item en la posición\n",
        "__add__(otra_lista) -> agrega una lista al final\n",
        "'''\n",
        "que_sos = (4,5,6,4,564,\"hola\", True)\n",
        "#print(type(que_sos)) \n",
        "lista1 = list(que_sos)\n",
        "#print(type(lista1))\n",
        "\n",
        "lista2 = lista1.copy()\n",
        "lista2.append(False)\n",
        "#lista2.append(lista1) # OJO que agrega la lista como un elemento individual\n",
        "#lista2.extend(lista1) # concatena las listas\n",
        "#print(lista2)\n",
        "\n",
        "# lista3 = lista1 # así no se crea una copia de una lista- usar método copy()\n",
        "# lista3.clear()\n",
        "# print(lista3)\n",
        "# print(lista1)\n",
        "#lista2.pop(-2) \n",
        "#lista2.__delitem__(-2) #borra el True\n",
        "#print(lista2)\n",
        "\n",
        "lista4 = [555,22,558,1,222,8,66,744,8,22]\n",
        "lista4.sort()\n",
        "#print(lista4)\n",
        "#print(lista4.__getitem__(5))\n",
        "\n",
        "#print(lista2)\n",
        "#print(lista4.count(22))\n",
        "lista4.__setitem__(3, True)\n",
        "#print(lista4)\n",
        "print(lista4.__add__(lista2))"
      ],
      "execution_count": null,
      "outputs": []
    },
    {
      "cell_type": "code",
      "metadata": {
        "id": "jVsLeIPVMc1W"
      },
      "source": [
        "#MÉTODOS DE dict\n",
        "\n",
        "'''\n",
        "dict() --> convierte en diccionario\n",
        "keys() --> devuelve una lista con las clave \n",
        "values() --> devuelve una lista con los valores\n",
        "__delitem__(clave) --> elimina el conjunto clave-valor \n",
        "__contains__(clave) --> devuelve True si el diccionario contiene la clave\n",
        "__setitem__(clave,valor) --> agrega al diccionario el par clave - valor\n",
        "__getitem__(clave) --> devuelve el valor de la clave que le pasamos\n",
        "len() --> devuelve la cantidad de pares clave-valor\n",
        "items() --> crea una lista con los pares clave-valor en tuplas\n",
        "pop(clave) --> elimina el conjunto clave-valor\n",
        "clear() --> limpia el diccionario\n",
        "setdefault(clave,valor) --> le da un valor por defecto a una clave\n",
        "'''\n",
        "\n",
        "futbolistas = dict()\n",
        "futbolistas = {1 : \"Casillas\", 15 : \"Ramos\", 3 : \"Pique\", 5 : \"Puyol\", 11 : \"Capdevila\", 14 : \"Xabi Alonso\", 16 : \"Busquets\", 8 : \"Xavi Hernandez\", 18 : \"Pedrito\", 6 : \"Iniesta\", 7 : \"Villa\"}\n",
        "#print(futbolistas.keys())\n",
        "#print(futbolistas.values())\n",
        "futbolistas.__delitem__(14)\n",
        "#print(futbolistas)\n",
        "#print(futbolistas.__contains__(105))\n",
        "futbolistas.__setitem__(105, \"Bananas\")\n",
        "#print(futbolistas)\n",
        "print(futbolistas.__getitem__(3))\n",
        "print(len(futbolistas))\n",
        "print(futbolistas.items())\n",
        "futbolistas.pop(105)\n",
        "print(futbolistas)\n",
        "futbolistas.setdefault(200,\"referi\")\n",
        "print(futbolistas)\n"
      ],
      "execution_count": null,
      "outputs": []
    },
    {
      "cell_type": "markdown",
      "metadata": {
        "id": "YmYKWrAWTDTl"
      },
      "source": [
        "Documentación oficial de python \n",
        "[https://docs.python.org/3.4/library/functions.html](https://docs.python.org/3.4/library/functions.html)\n",
        "\n",
        "## Funciones predefinidas\n",
        "- Built-in functions son las funciones que ya vienen incluidas en python. Quiere decir que no necesitamos programar , ni incluir módulos, librerías, ni programarlas nosotros mismas.\n"
      ]
    }
  ]
}